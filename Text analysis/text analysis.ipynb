{
 "cells": [
  {
   "cell_type": "markdown",
   "metadata": {},
   "source": [
    "### Text analysis \n",
    "based on Objects and Clases excercises from IBM Data Engineering course PY0101EN"
   ]
  },
  {
   "cell_type": "markdown",
   "metadata": {},
   "source": [
    "### Let's consider a real-life scenario where you are analyzing songs lyrics. You have a large dataset of lyrics in the form of strings, and you want to extract useful information from them using the three identified tasks:\n",
    "\n",
    "**Task 1. String in lower case:**\n",
    "You want to Pre-process the customer feedback by converting all the text to lowercase. This step helps standardize the text. Lower casing the text allows you to focus on the content rather than the specific letter casing.\n",
    "\n",
    "**Task 2. Frequency of all words in a given string:**\n",
    "After converting the text to lowercase, you want to determine the frequency of each word in the customer feedback. This information will help you identify which words are used more frequently, indicating the key aspects or topics that bands are mentioning in their songs. By analyzing the word frequencies, you can gain insights into the most common issues raised by artists.\n",
    "\n",
    "**Task 3. Frequency of a specific word:**\n",
    "In addition to analyzing the overall word frequencies, you want to specifically track the frequency of a particular word that is relevant to your analysis. By focusing on the frequency of a specific word, you can gain a deeper understanding of artists expression or preferences related to a particular aspect.\n",
    "\n",
    "By performing these tasks on the songs lyrics dataset, you can gain valuable insights into artists sentiment\n"
   ]
  },
  {
   "cell_type": "markdown",
   "metadata": {},
   "source": [
    "### Part 1"
   ]
  },
  {
   "cell_type": "markdown",
   "metadata": {},
   "source": [
    "Step 1 - define a string"
   ]
  },
  {
   "cell_type": "code",
   "execution_count": 10,
   "metadata": {},
   "outputs": [],
   "source": [
    "str_to_analyze = \"\"\"A deep voice is rising from the heart of the mountain\n",
    "Vibrations of the stone, I can hear in my heart\n",
    "The call of instinct, the flight of the powerful\n",
    "I hunger for it, it just keeps me alive\n",
    "I met the dragon in a cave by the mountain\n",
    "Now I bring the evidence, the beast is alive\n",
    "This ageless army will strike in the morning\n",
    "And then a star will rise and shine in the sky\n",
    "But I grow impatient, cannot stand the wait\n",
    "And I start to dig within me this tunnel to I\n",
    "In this region of me, a great dragon is lying\n",
    "On the wealth of a mighty world, my own world inside\n",
    "I saw\n",
    "I saw monsters\n",
    "And I\n",
    "And I start to\n",
    "Start to dig within\n",
    "When I\n",
    "When I turn my\n",
    "Turn my back on them, they devour me\n",
    "In this region of\n",
    "Me, a dragon is lying there awake\n",
    "Monster\n",
    "Monster kings do\n",
    "Do not scorn them\n",
    "But do not fear them, no\n",
    "Muster\n",
    "Muster thy army\n",
    "Army\"\"\""
   ]
  },
  {
   "cell_type": "markdown",
   "metadata": {},
   "source": [
    "Step 2 Define the class and its attributes\n",
    "Step 3 Implement a code to Format the text in Lowercase\n",
    "Step 4 Implement a code to count the Frequency of all unique words\n",
    "    In this step, Implement the freqAll() method with the below parameters:\n",
    "    Split the fmtText attribute into individual words using the split() method.\n",
    "    Create an empty dictionary to store the word frequency.\n",
    "    Iterate over the list of words and update the frequency dictionary accordingly.\n",
    "    Use count method for counting the occurence\n",
    "    Return the frequency dictionary.\n",
    "Step 5 Implement a code to count the Frequency of a specific word:\n",
    "    Create method and pass the word that need to be found\n",
    "    Get the freqAll method for look for count and check if that word is in the list.\n",
    "    Return the count.\n",
    "\n",
    "\n"
   ]
  },
  {
   "cell_type": "code",
   "execution_count": 26,
   "metadata": {},
   "outputs": [],
   "source": [
    "class TextAnalyzer(object):\n",
    "    # store the provided 'text' as an instance variable.\n",
    "    def __init__(self, text):\n",
    "       \n",
    "        formattedText = text.replace('.','').replace('!','').replace('?','').replace(',','').replace(\"\\n\",\" \")\n",
    "        \n",
    "        # make text lowercase\n",
    "        formattedText = formattedText.lower()\n",
    "        \n",
    "        self.fmtText = formattedText\n",
    "\n",
    "    def freqAll(self):\n",
    "        #split words into a list:\n",
    "        words = self.fmtText.split(' ')\n",
    "        #create a dictionary and populate the dictionary:\n",
    "        \n",
    "        word_dict = {}\n",
    "        for word in set(words):\n",
    "            word_dict[word] = words.count(word)\n",
    "        \n",
    "        return word_dict\n",
    "\n",
    "    def word_counter(self, word):\n",
    "        freq_dict = self.freqAll()\n",
    "\n",
    "        if word in freq_dict:\n",
    "            return freq_dict[word]\n",
    "        else:\n",
    "            return 0\n",
    "\n"
   ]
  },
  {
   "cell_type": "markdown",
   "metadata": {},
   "source": [
    "# Part B \n",
    "**In Part B, we will be calling the functions created in Part A, allowing the functions to execute and generate output.**\n"
   ]
  },
  {
   "cell_type": "markdown",
   "metadata": {},
   "source": [
    "Step 1 Create an instance of TextAnalyzer Class.\n",
    "* Instantiate the TextAnalyzer class by passing the given string as an argument.\n"
   ]
  },
  {
   "cell_type": "code",
   "execution_count": 27,
   "metadata": {},
   "outputs": [],
   "source": [
    "analyzed = TextAnalyzer(str_to_analyze)"
   ]
  },
  {
   "cell_type": "markdown",
   "metadata": {},
   "source": [
    "Step 2  Call the function that converts the data into lowercase\n"
   ]
  },
  {
   "cell_type": "code",
   "execution_count": 28,
   "metadata": {},
   "outputs": [
    {
     "name": "stdout",
     "output_type": "stream",
     "text": [
      "Formatted Text: a deep voice is rising from the heart of the mountain vibrations of the stone i can hear in my heart the call of instinct the flight of the powerful i hunger for it it just keeps me alive i met the dragon in a cave by the mountain now i bring the evidence the beast is alive this ageless army will strike in the morning and then a star will rise and shine in the sky but i grow impatient cannot stand the wait and i start to dig within me this tunnel to i in this region of me a great dragon is lying on the wealth of a mighty world my own world inside i saw i saw monsters and i and i start to start to dig within when i when i turn my turn my back on them they devour me in this region of me a dragon is lying there awake monster monster kings do do not scorn them but do not fear them no muster muster thy army army\n"
     ]
    }
   ],
   "source": [
    "print(\"Formatted Text:\", analyzed.fmtText)"
   ]
  },
  {
   "cell_type": "markdown",
   "metadata": {},
   "source": [
    "Step 3 Call the function that counts the frequency of all unique words from the data.\n"
   ]
  },
  {
   "cell_type": "code",
   "execution_count": 29,
   "metadata": {},
   "outputs": [
    {
     "name": "stdout",
     "output_type": "stream",
     "text": [
      "{'rising': 1, 'cannot': 1, 'mighty': 1, 'met': 1, 'star': 1, 'shine': 1, 'dig': 2, 'great': 1, 'for': 1, 'sky': 1, 'dragon': 3, 'do': 3, 'grow': 1, 'awake': 1, 'it': 2, 'hunger': 1, 'a': 6, 'my': 4, 'then': 1, 'army': 3, 'heart': 2, 'devour': 1, 'vibrations': 1, 'not': 2, 'flight': 1, 'back': 1, 'deep': 1, 'beast': 1, 'just': 1, 'i': 13, 'evidence': 1, 'lying': 2, 'inside': 1, 'can': 1, 'cave': 1, 'ageless': 1, 'mountain': 2, 'stand': 1, 'wealth': 1, 'muster': 2, 'but': 2, 'scorn': 1, 'of': 7, 'powerful': 1, 'rise': 1, 'no': 1, 'by': 1, 'they': 1, 'hear': 1, 'monsters': 1, 'start': 3, 'alive': 2, 'saw': 2, 'keeps': 1, 'own': 1, 'the': 14, 'on': 2, 'wait': 1, 'will': 2, 'when': 2, 'impatient': 1, 'morning': 1, 'turn': 2, 'strike': 1, 'from': 1, 'region': 2, 'me': 5, 'kings': 1, 'monster': 2, 'them': 3, 'to': 4, 'instinct': 1, 'there': 1, 'in': 6, 'stone': 1, 'is': 4, 'this': 4, 'now': 1, 'world': 2, 'thy': 1, 'call': 1, 'and': 5, 'within': 2, 'fear': 1, 'tunnel': 1, 'voice': 1, 'bring': 1}\n"
     ]
    }
   ],
   "source": [
    "freqMap = analyzed.freqAll()\n",
    "print(freqMap)"
   ]
  },
  {
   "cell_type": "markdown",
   "metadata": {},
   "source": [
    "Step 4 Call the function that counts the frequency of specific word."
   ]
  },
  {
   "cell_type": "code",
   "execution_count": 30,
   "metadata": {},
   "outputs": [
    {
     "name": "stdout",
     "output_type": "stream",
     "text": [
      "The word dragon appears 3 times.\n"
     ]
    }
   ],
   "source": [
    "word = 'dragon'\n",
    "frequency = analyzed.word_counter(word)\n",
    "print(\"The word\",word,\"appears\",frequency,\"times.\")"
   ]
  },
  {
   "cell_type": "code",
   "execution_count": null,
   "metadata": {},
   "outputs": [],
   "source": []
  }
 ],
 "metadata": {
  "kernelspec": {
   "display_name": "Python 3",
   "language": "python",
   "name": "python3"
  },
  "language_info": {
   "codemirror_mode": {
    "name": "ipython",
    "version": 3
   },
   "file_extension": ".py",
   "mimetype": "text/x-python",
   "name": "python",
   "nbconvert_exporter": "python",
   "pygments_lexer": "ipython3",
   "version": "3.10.7"
  }
 },
 "nbformat": 4,
 "nbformat_minor": 2
}
